{
 "cells": [
  {
   "cell_type": "code",
   "execution_count": null,
   "id": "3182c9d5",
   "metadata": {},
   "outputs": [],
   "source": [
    "'''\n",
    "   GIVEN TWO INTEGER ARRAYS nums1 AND nums2, RETURN AN ARRAY OF THEIR INTERSECTION. \n",
    "   EACH ELEMENT IN THE RESULT MUST BE UNIQUE AND YOU MAY RETURN THE RESULT IN ANY ORDER.\n",
    "   \n",
    "   EXAMPLE 1:\n",
    "      Input: nums1 = [1,2,2,1], nums2 = [2,2]\n",
    "      Output: [2]\n",
    "      \n",
    "    EXAMPLE 2:\n",
    "      Input: nums1 = [4,9,5], nums2 = [9,4,9,8,4]\n",
    "      Output: [9,4]\n",
    "      Explanation: [4,9] is also accepted\n",
    "      \n",
    "reference: https://www.linkedin.com/feed/update/urn:li:activity:6923956351517741056/?updateEntityUrn=urn%3Ali%3Afs_updateV2%3A%28urn%3Ali%3Aactivity%3A6923956351517741056%2CFEED_DETAIL%2CEMPTY%2CDEFAULT%2Cfalse%29\n",
    "    #Method1\n",
    "    Here we will return the output as a list where we will identify unique values in each \n",
    "    array using method set()\n",
    "   \n",
    "    #method2\n",
    "    We will find unique values of one array using method set() and then use \n",
    "    method intersection() to identify same values in the other array\n",
    "\n",
    "'''\n",
    "\n",
    "class Example(object):\n",
    "    #return an array of the intersection between two arrays+\n",
    "    #two methods to solve\n",
    "    #first to get unique value using method set  wich comes in hand\n",
    "    # seconf returns as a list identify our unique value using set()    \n",
    "    \n",
    "    def retuniqintersec(self, nums1, nums2):\n",
    "        \"\"\"\n",
    "        type nums1: List[int]\n",
    "        type nums2: List[int]\n",
    "        rtype: List(int)\n",
    "        \"\"\"\n",
    "        nums3 = list(set(nums1) & set(nums2))\n",
    "        return nums3\n",
    "\n",
    "    def retlistintersec(self, nums1, nums2):\n",
    "        \"\"\"\n",
    "        type nums1: List[int]\n",
    "        type nums2: List[int]\n",
    "        rtype: List(int)\n",
    "        \"\"\"\n",
    "        return set(nums1).intersection(nums2)\n",
    "    "
   ]
  }
 ],
 "metadata": {
  "kernelspec": {
   "display_name": "Python 3 (ipykernel)",
   "language": "python",
   "name": "python3"
  },
  "language_info": {
   "codemirror_mode": {
    "name": "ipython",
    "version": 3
   },
   "file_extension": ".py",
   "mimetype": "text/x-python",
   "name": "python",
   "nbconvert_exporter": "python",
   "pygments_lexer": "ipython3",
   "version": "3.9.7"
  }
 },
 "nbformat": 4,
 "nbformat_minor": 5
}
